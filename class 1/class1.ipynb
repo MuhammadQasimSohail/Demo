{
 "cells": [
  {
   "cell_type": "code",
   "execution_count": 1,
   "id": "8fe20a84-e8b6-41b8-bd83-7656b7f3afba",
   "metadata": {},
   "outputs": [
    {
     "name": "stdout",
     "output_type": "stream",
     "text": [
      "hello saylani\n"
     ]
    }
   ],
   "source": [
    "print (\"hello saylani\")"
   ]
  },
  {
   "cell_type": "markdown",
   "id": "545fff5c-2a1b-468a-add7-cd8b89d1650d",
   "metadata": {},
   "source": [
    "### Expersion"
   ]
  },
  {
   "cell_type": "code",
   "execution_count": 2,
   "id": "6a11663a-f2dd-40e5-aa2b-de9902438429",
   "metadata": {},
   "outputs": [
    {
     "data": {
      "text/plain": [
       "8"
      ]
     },
     "execution_count": 2,
     "metadata": {},
     "output_type": "execute_result"
    }
   ],
   "source": [
    "2+6"
   ]
  },
  {
   "cell_type": "code",
   "execution_count": 3,
   "id": "c676cc46-7a98-4a11-a5ad-98036e953d1a",
   "metadata": {},
   "outputs": [
    {
     "data": {
      "text/plain": [
       "77"
      ]
     },
     "execution_count": 3,
     "metadata": {},
     "output_type": "execute_result"
    }
   ],
   "source": [
    "56+21"
   ]
  },
  {
   "cell_type": "code",
   "execution_count": 4,
   "id": "e5f732e0-4cf1-4315-888e-c2b09988c9c1",
   "metadata": {},
   "outputs": [
    {
     "data": {
      "text/plain": [
       "5"
      ]
     },
     "execution_count": 4,
     "metadata": {},
     "output_type": "execute_result"
    }
   ],
   "source": [
    "7-2"
   ]
  },
  {
   "cell_type": "code",
   "execution_count": 5,
   "id": "986462f2-9d75-451f-8524-0eb1edf5b804",
   "metadata": {},
   "outputs": [
    {
     "data": {
      "text/plain": [
       "21"
      ]
     },
     "execution_count": 5,
     "metadata": {},
     "output_type": "execute_result"
    }
   ],
   "source": [
    "33-12"
   ]
  },
  {
   "cell_type": "code",
   "execution_count": 6,
   "id": "21aa7cde-c272-49b4-af30-8af4731f0167",
   "metadata": {},
   "outputs": [
    {
     "data": {
      "text/plain": [
       "3.0"
      ]
     },
     "execution_count": 6,
     "metadata": {},
     "output_type": "execute_result"
    }
   ],
   "source": [
    "6/2"
   ]
  },
  {
   "cell_type": "code",
   "execution_count": 7,
   "id": "5b76bd80-d949-47b7-bfce-7f5be835c640",
   "metadata": {},
   "outputs": [
    {
     "data": {
      "text/plain": [
       "1.0"
      ]
     },
     "execution_count": 7,
     "metadata": {},
     "output_type": "execute_result"
    }
   ],
   "source": [
    "2/2"
   ]
  },
  {
   "cell_type": "code",
   "execution_count": 8,
   "id": "e32b1ddc-235a-429e-ac96-498fb062f156",
   "metadata": {},
   "outputs": [
    {
     "data": {
      "text/plain": [
       "3"
      ]
     },
     "execution_count": 8,
     "metadata": {},
     "output_type": "execute_result"
    }
   ],
   "source": [
    "6//2"
   ]
  },
  {
   "cell_type": "code",
   "execution_count": 9,
   "id": "a19b3e7b-f228-4517-b744-3d8243d2b8c8",
   "metadata": {},
   "outputs": [
    {
     "data": {
      "text/plain": [
       "1"
      ]
     },
     "execution_count": 9,
     "metadata": {},
     "output_type": "execute_result"
    }
   ],
   "source": [
    "2//2"
   ]
  },
  {
   "cell_type": "code",
   "execution_count": 10,
   "id": "c6639c66-99c9-4e24-9a65-fda25c07b9ba",
   "metadata": {},
   "outputs": [
    {
     "data": {
      "text/plain": [
       "32"
      ]
     },
     "execution_count": 10,
     "metadata": {},
     "output_type": "execute_result"
    }
   ],
   "source": [
    "4*8"
   ]
  },
  {
   "cell_type": "code",
   "execution_count": 11,
   "id": "608755ed-8470-4cab-a7c0-3c780bd3b91f",
   "metadata": {},
   "outputs": [
    {
     "data": {
      "text/plain": [
       "12"
      ]
     },
     "execution_count": 11,
     "metadata": {},
     "output_type": "execute_result"
    }
   ],
   "source": [
    "2*6"
   ]
  },
  {
   "cell_type": "code",
   "execution_count": 12,
   "id": "b5b4b14b-917f-422b-9f51-7369192bb044",
   "metadata": {},
   "outputs": [
    {
     "data": {
      "text/plain": [
       "36"
      ]
     },
     "execution_count": 12,
     "metadata": {},
     "output_type": "execute_result"
    }
   ],
   "source": [
    "6**2 # 6 powers 2 => 6*6"
   ]
  },
  {
   "cell_type": "code",
   "execution_count": 13,
   "id": "640609b0-715e-41f3-b76c-0647266504a4",
   "metadata": {},
   "outputs": [
    {
     "data": {
      "text/plain": [
       "32"
      ]
     },
     "execution_count": 13,
     "metadata": {},
     "output_type": "execute_result"
    }
   ],
   "source": [
    "2**5"
   ]
  },
  {
   "cell_type": "code",
   "execution_count": 14,
   "id": "8e22a80e-43f7-44ed-b99e-de1b53e25f71",
   "metadata": {},
   "outputs": [
    {
     "data": {
      "text/plain": [
       "-27"
      ]
     },
     "execution_count": 14,
     "metadata": {},
     "output_type": "execute_result"
    }
   ],
   "source": [
    "# PEMDAS\n",
    "\n",
    "(1-3) - (5**2)"
   ]
  },
  {
   "cell_type": "markdown",
   "id": "b3c7a2f3-9128-4490-9543-13ea2fbe6c2f",
   "metadata": {},
   "source": [
    "### Variables"
   ]
  },
  {
   "cell_type": "code",
   "execution_count": 15,
   "id": "49e7e4e3-30cb-4a0a-8652-2ae85b69f157",
   "metadata": {},
   "outputs": [],
   "source": [
    "revenue = 7*14*2 # 7 coustomer 14 item purchess 2 item prices"
   ]
  },
  {
   "cell_type": "code",
   "execution_count": 16,
   "id": "28892ac7-de07-4578-864d-d1d4ac1f253d",
   "metadata": {},
   "outputs": [
    {
     "data": {
      "text/plain": [
       "196"
      ]
     },
     "execution_count": 16,
     "metadata": {},
     "output_type": "execute_result"
    }
   ],
   "source": [
    "revenue"
   ]
  },
  {
   "cell_type": "markdown",
   "id": "e4e0bf7d-97be-4aaf-9883-aa75dbc71c05",
   "metadata": {},
   "source": [
    "- INTEGER #= NUMBER DATA TYPE\n",
    "- FLOAT #= DEACIMIL POINT\n",
    "- STRING #= COLLECTION OF CARROCTER\n",
    "- BOOLEAN #= ANSWER (True - False)"
   ]
  },
  {
   "cell_type": "code",
   "execution_count": 17,
   "id": "25bca2c4-7ef5-4122-94f6-4e71a1e782c0",
   "metadata": {},
   "outputs": [
    {
     "data": {
      "text/plain": [
       "int"
      ]
     },
     "execution_count": 17,
     "metadata": {},
     "output_type": "execute_result"
    }
   ],
   "source": [
    "type(12)"
   ]
  },
  {
   "cell_type": "code",
   "execution_count": 18,
   "id": "d355e007-0862-477f-8a86-84b6ddeaa75f",
   "metadata": {},
   "outputs": [
    {
     "data": {
      "text/plain": [
       "float"
      ]
     },
     "execution_count": 18,
     "metadata": {},
     "output_type": "execute_result"
    }
   ],
   "source": [
    "type(12.4)"
   ]
  },
  {
   "cell_type": "code",
   "execution_count": 23,
   "id": "00df04ac-456c-4809-b86a-15ba6c7fb8e4",
   "metadata": {},
   "outputs": [
    {
     "data": {
      "text/plain": [
       "str"
      ]
     },
     "execution_count": 23,
     "metadata": {},
     "output_type": "execute_result"
    }
   ],
   "source": [
    "type(\"Muhammad Qasim\")"
   ]
  },
  {
   "cell_type": "code",
   "execution_count": 26,
   "id": "0c346457-0d0f-4d25-8533-4cdeb63cad88",
   "metadata": {},
   "outputs": [
    {
     "data": {
      "text/plain": [
       "bool"
      ]
     },
     "execution_count": 26,
     "metadata": {},
     "output_type": "execute_result"
    }
   ],
   "source": [
    "type(False)"
   ]
  },
  {
   "cell_type": "code",
   "execution_count": 29,
   "id": "804b5d4c-dcea-44f2-a0ff-e9a4db350f0c",
   "metadata": {},
   "outputs": [
    {
     "data": {
      "text/plain": [
       "bool"
      ]
     },
     "execution_count": 29,
     "metadata": {},
     "output_type": "execute_result"
    }
   ],
   "source": [
    "type(True)"
   ]
  },
  {
   "cell_type": "code",
   "execution_count": 30,
   "id": "b99b5cfe-8063-47f3-8ed6-cf0231e6e59a",
   "metadata": {},
   "outputs": [],
   "source": [
    "name = \"Muhammad Qasim\""
   ]
  },
  {
   "cell_type": "code",
   "execution_count": 31,
   "id": "a14244dd-32e5-4c78-8236-2284e7037e2f",
   "metadata": {},
   "outputs": [],
   "source": [
    "weight = 48.1"
   ]
  },
  {
   "cell_type": "code",
   "execution_count": 32,
   "id": "379f7e2b-3a02-4c67-b315-aa2bd71324c7",
   "metadata": {},
   "outputs": [],
   "source": [
    "age = 20"
   ]
  },
  {
   "cell_type": "code",
   "execution_count": 33,
   "id": "f8889d6e-db23-42aa-b65d-a03c6438eefe",
   "metadata": {},
   "outputs": [],
   "source": [
    "present = True"
   ]
  },
  {
   "cell_type": "code",
   "execution_count": 34,
   "id": "d309d387-f9af-4170-b09c-75bb3c5f0b5c",
   "metadata": {},
   "outputs": [
    {
     "name": "stdout",
     "output_type": "stream",
     "text": [
      "Muhammad Qasim\n"
     ]
    }
   ],
   "source": [
    "name = \"Muhammad Qasim\"\n",
    "print (name)"
   ]
  },
  {
   "cell_type": "code",
   "execution_count": 35,
   "id": "8e1c868d-f966-459f-bdd1-5144a1ca8df2",
   "metadata": {},
   "outputs": [
    {
     "name": "stdout",
     "output_type": "stream",
     "text": [
      "48.1\n"
     ]
    }
   ],
   "source": [
    "weight = 48.1\n",
    "print (weight)"
   ]
  },
  {
   "cell_type": "code",
   "execution_count": 36,
   "id": "23986f8c-7170-4749-81f3-26f947cd26d3",
   "metadata": {},
   "outputs": [
    {
     "name": "stdout",
     "output_type": "stream",
     "text": [
      "20\n"
     ]
    }
   ],
   "source": [
    "age = 20\n",
    "print (age)"
   ]
  },
  {
   "cell_type": "markdown",
   "id": "efd74d7f-41d3-47f9-aa6e-9041fdf88ba6",
   "metadata": {},
   "source": [
    "### Best Practices\n",
    "- name should be precise \n",
    "- variable shouldn't contain \"-\" and any other special character expect \"_\"\n",
    "- variable name cannot be start with numbers i:e., 0-9"
   ]
  },
  {
   "cell_type": "code",
   "execution_count": null,
   "id": "6d9d1900-0cf1-4cc7-83c6-917ebf95b2da",
   "metadata": {},
   "outputs": [],
   "source": []
  }
 ],
 "metadata": {
  "kernelspec": {
   "display_name": "Python 3 (ipykernel)",
   "language": "python",
   "name": "python3"
  },
  "language_info": {
   "codemirror_mode": {
    "name": "ipython",
    "version": 3
   },
   "file_extension": ".py",
   "mimetype": "text/x-python",
   "name": "python",
   "nbconvert_exporter": "python",
   "pygments_lexer": "ipython3",
   "version": "3.12.7"
  }
 },
 "nbformat": 4,
 "nbformat_minor": 5
}
